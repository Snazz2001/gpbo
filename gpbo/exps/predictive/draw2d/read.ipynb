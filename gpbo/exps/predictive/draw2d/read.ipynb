{
 "cells": [
  {
   "cell_type": "code",
   "execution_count": null,
   "metadata": {},
   "outputs": [],
   "source": [
    "%%javascript\n",
    "IPython.OutputArea.prototype._should_scroll = function(lines) {\n",
    "    return false;\n",
    "}"
   ]
  },
  {
   "cell_type": "code",
   "execution_count": null,
   "metadata": {
    "collapsed": true
   },
   "outputs": [],
   "source": [
    "import numpy as np\n",
    "import scipy as sp\n",
    "from scipy.optimize import minimize\n",
    "from scipy.stats import gamma as gammadist\n",
    "from scipy.stats import norm\n",
    "import pandas as pd\n",
    "import os\n",
    "import sys\n",
    "from matplotlib import pyplot as plt\n",
    "import GPflow as gpf\n",
    "import tensorflow as tf\n",
    "\n",
    "%matplotlib notebook"
   ]
  },
  {
   "cell_type": "code",
   "execution_count": null,
   "metadata": {
    "collapsed": true
   },
   "outputs": [],
   "source": [
    "fpath = '/home/mark/Desktop/tmp/2dset'\n",
    "fnames = [i for i in os.listdir(fpath) if i.startswith('eihyp{}_'.format(38)) ]\n",
    "def getRMV(fpath,fnames,N):\n",
    "    R = np.empty([N,len(fnames)])\n",
    "    T = np.zeros([N,2])\n",
    "    X = np.array(range(N)).astype(float)\n",
    "    n = len(fnames)\n",
    "    for j in range(n):    \n",
    "        f = os.path.join(fpath,fnames[j])\n",
    "        #print(f)\n",
    "        names = (open(f).readline().strip('\\n')+''.join([',q{}'.format(i) for i in range(5)])).replace(' ','')\n",
    "        df = pd.read_csv(f,names=names.split(','),skiprows=1,engine='c')\n",
    "        tv = np.array(df['taq'].values)\n",
    "        data =df['trueyatxrecc'].values\n",
    "        mn = min([i for i in data if i>0])\n",
    "        data2 = np.maximum(mn,data)\n",
    "        R[:,j] = np.log10(data2) #swith to abs should be removed. converted to log10\n",
    "        \n",
    "        T[:,0] += np.cumsum(tv)\n",
    "        T[:,1] += np.cumsum(tv)**2\n",
    "        #print(np.max(np.cumsum(tv)))\n",
    "        #print(np.max(T))\n",
    "        #print(T[-1,0],fnames[j])\n",
    "    #print(R)\n",
    "    M = np.mean(R,axis=1)\n",
    "    V = np.var(R,axis=1)\n",
    "    return X,R,M,V,T,n\n",
    "#f,a = plt.subplots(nrows=1,ncols=2,figsize=[8,3])\n",
    "X,R,M,V,Traw,n = getRMV(fpath,fnames,200)\n",
    "#a[0].plot(X,M,'b')\n",
    "#a[0].plot(X,R,'.')\n",
    "#a[0].plot(X,M+2*np.sqrt(V),'b--')\n",
    "#a[0].plot(X,M-2*np.sqrt(V),'b--')\n",
    "#a[1].plot(X,Traw[:,0]/n,'b')\n",
    "#a[1].plot(X,np.sqrt(Traw[:,1]/n-(Traw[:,0]/n)**2),'r')\n",
    "\n",
    "z = np.linspace(0,220,200)\n",
    "#print(V)"
   ]
  },
  {
   "cell_type": "code",
   "execution_count": null,
   "metadata": {},
   "outputs": [],
   "source": [
    "def fitXV(X,M):\n",
    "\n",
    "    a0=1.\n",
    "    sigma0=1\n",
    "    b0=0.1\n",
    "    c0=1\n",
    "    def llk(para):\n",
    "        a = abs(para[0]) # true distribution is a truncated normal in true value?\n",
    "        b = abs(para[1])\n",
    "        c = para[2]\n",
    "        sigma = abs(para[3])\n",
    "        pa = gammadist.logpdf(a,4.,scale=1.)\n",
    "        pa+= gammadist.logpdf(b,4.,scale=0.1)\n",
    "        pa+= norm.logpdf(c,loc=-3.,scale=2)\n",
    "        pa+= gammadist.logpdf(sigma,1.,scale=1.)\n",
    "        \n",
    "        Yh = np.maximum(c*np.ones_like(X),a-b*X)\n",
    "        E = M-Yh\n",
    "        return np.sum(((E)**2)/sigma**2)-pa\n",
    "    res = minimize(llk,[a0,b0,c0,sigma0],method='Nelder-Mead')\n",
    "    return [abs(res.x[0]),abs(res.x[1]),res.x[2],abs(res.x[3])]\n",
    "\n",
    "def model(x,theta):\n",
    "        return np.maximum(theta[0]-theta[1]*x,theta[2]-theta[3]*x)\n",
    "\n",
    "def fit2line(X,M):\n",
    "    \n",
    "    m0 = -min(-1e-9,(M[20]-M[0])/(X[20]-X[0]))\n",
    "    #m1 = -min(-1e-9,(M[-1]-M[-21])/(X[-1]-X[-21]))\n",
    "    a0 = M[0]+m0*X[0]\n",
    "    #a1 = M[-1]+m1*X[-1]\n",
    "    theta0  = [a0,m0,M[-1],1e-6,1.]\n",
    "    \n",
    "    def llk(theta):\n",
    "        pa = norm.logpdf(theta[0],loc=0.,scale=1.)\n",
    "        #print(pa,theta[1],gammadist.logpdf(theta[1],4.,scale=1.))\n",
    "        pa += gammadist.logpdf(theta[1],4.,scale=0.1)\n",
    "        \n",
    "        pa += norm.logpdf(theta[2],loc=0.,scale=1.)\n",
    "        \n",
    "        pa += gammadist.logpdf(theta[3],4.,scale=0.1)\n",
    "        pa += gammadist.logpdf(theta[4],2.,scale=0.1)\n",
    "        Yh = model(X,theta)\n",
    "        E = M-Yh\n",
    "        L = np.sum(((E)**2)/theta[4]**2)-pa\n",
    "        \n",
    "        return L\n",
    "    res = minimize(llk,theta0,method='Nelder-Mead')\n",
    "\n",
    "    return res.x\n",
    "\n",
    "\n",
    "from scipy import stats\n",
    "for i in range(1):\n",
    "    fnames = [f for f in os.listdir(fpath) if f.startswith('eihyp{}_'.format(i)) ]\n",
    "    #print(fnames)\n",
    "    X,R,M,V,Traw,n = getRMV(fpath,fnames,200)\n",
    "    f,a=plt.subplots(nrows=1,ncols=3,figsize=[10,3])\n",
    "    a[0].plot(X,M,'b')\n",
    "    a[1].plot(X,V,'b')\n",
    "    a[2].plot(X,stats.moment(R,4,axis=1),'b')\n",
    "    \n",
    "    T = np.vstack([stats.t.fit(R[j,:]) for j in range(R.shape[0])])\n",
    "    a[0].plot(X,T[:,1],'purple')\n",
    "    a[1].plot(X,T[:,2]**2,'purple')\n",
    "    a[2].plot(X,1./T[:,0],'purple')\n",
    "    aV,bV,cV,sigmaV= fitXV(X[10:],V[10:])\n",
    "    thetaM = fit2line(X[10:],M[10:])\n",
    "    \n",
    "    aM,bM,cM,sigmaV= fitXV(X[10:],M[10:])\n",
    "    #alphaV,gammaV,sigmaV,betaV = [15,0.6,1e-3,1e-6]\n",
    "    Vz = np.maximum(cV*np.ones_like(z),aV-bV*z)\n",
    "    Mz = np.maximum(cM*np.ones_like(z),aM-bM*z)\n",
    "    M2 = model(z,thetaM)\n",
    "    a[1].plot(z,Vz,'g')\n",
    "    a[0].plot(z,Mz,'g')\n",
    "    a[0].plot(z,M2,'r')"
   ]
  },
  {
   "cell_type": "code",
   "execution_count": null,
   "metadata": {},
   "outputs": [],
   "source": [
    "\n",
    "def fittshape(X,M,R):\n",
    "    u = R.shape[1]\n",
    "    m0 = -min(-1e-9,(M[20]-M[0])/(X[20]-X[0]))\n",
    "    a0 = M[0]+m0*X[0]\n",
    "    theta0  = [a0,m0,M[-1],1e-6,2.,3.]\n",
    "    def llk(theta):\n",
    "        pa = norm.logpdf(theta[0],loc=0.,scale=1.)\n",
    "        pa += gammadist.logpdf(theta[1],4.,scale=0.1)\n",
    "        pa += norm.logpdf(theta[2],loc=0.,scale=1.)\n",
    "        pa += gammadist.logpdf(theta[3],4.,scale=0.1)\n",
    "        pa += gammadist.logpdf(theta[4],4.,scale=2.)\n",
    "        pa += gammadist.logpdf(1./theta[5],1.,scale=1.)\n",
    "        Yh = model(X,theta)\n",
    "        L = -pa\n",
    "        for i in range(u):\n",
    "            E = R[:,i]-Yh\n",
    "            L-=np.sum(stats.t.logpdf(E,loc=0.,scale=theta[4],df=theta[5]))\n",
    "        return L\n",
    "    res = minimize(llk,theta0,method='Nelder-Mead')\n",
    "\n",
    "    return res.x\n",
    " \n",
    "for i in range(10):\n",
    "    fnames = [f for f in os.listdir(fpath) if f.startswith('eihyp{}_'.format(i)) ]\n",
    "    #print(fnames)\n",
    "    X,R,M,V,Traw,n = getRMV(fpath,fnames,200)\n",
    "    f,a=plt.subplots(nrows=1,ncols=3,figsize=[10,3])\n",
    "    \n",
    "    theta = fittshape(X[10:],M[10:],R[10:,:])\n",
    "    theta2 = fit2line(X[10:],M[10:])\n",
    "    a[0].plot(X,R,'r.',ms=1)\n",
    "    a[0].plot(X,M,'r')\n",
    "    #a[0].plot(X,M-2*np.sqrt(V),'r--')\n",
    "    #a[0].plot(X,M+2*np.sqrt(V),'r--')\n",
    "    \n",
    "    a[0].plot(X,model(X,theta2),'b')\n",
    "    a[0].plot(X,model(X,theta),'g')\n",
    "    iv = stats.t.interval(0.95,df = theta[5],scale=theta[4],loc=0.)\n",
    "    a[0].plot(X,model(X,theta)+iv[0],'g--')\n",
    "    a[0].plot(X,model(X,theta)-iv[0],'g--')\n",
    "    a[0].plot(X,model(X,theta),'g')\n",
    "    print(theta)"
   ]
  },
  {
   "cell_type": "code",
   "execution_count": null,
   "metadata": {},
   "outputs": [],
   "source": [
    "from scipy import stats\n",
    "\n",
    "fnames = [f for f in os.listdir('/home/mark/Desktop/tmp/fix') if f.startswith('eihyp{}_'.format(0)) ]\n",
    "#print(fnames)\n",
    "X,R,M,V,Traw,n = getRMV('/home/mark/Desktop/tmp/fix',fnames,150)\n",
    "f,a=plt.subplots(nrows=2,ncols=2,figsize=[9,3])\n",
    "a[0,0].plot(X,M,'b')\n",
    "a[0,1].plot(X,V,'b')\n",
    "aV,bV,cV,sigmaV= fitXV(X[10:],V[10:])\n",
    "aM,bM,cM,sigmaV= fitXV(X[10:],M[10:])\n",
    "#alphaV,gammaV,sigmaV,betaV = [15,0.6,1e-3,1e-6]\n",
    "Vz = np.maximum(cV*np.ones_like(z),aV-bV*z)\n",
    "Mz = np.maximum(cM*np.ones_like(z),aM-bM*z)\n",
    "a[0,1].plot(z,Vz,'g')\n",
    "a[0,0].plot(z,Mz,'g')\n",
    "a[1,0].plot(X,stats.moment(R,3,axis=1),'r')\n",
    "#a[1,1].plot(X,stats.moment(R,4,axis=1),'r')\n",
    "T = np.vstack([stats.t.fit(R[j,:]) for j in range(R.shape[0])])\n",
    "a[0,0].plot(X,T[:,1],'purple')\n",
    "a[0,1].plot(X,T[:,2]**2,'purple')\n",
    "a[1,1].plot(X,1./T[:,0],'purple')"
   ]
  },
  {
   "cell_type": "code",
   "execution_count": null,
   "metadata": {},
   "outputs": [],
   "source": [
    "f,a = plt.subplots()\n",
    "theta = fittshape(X[10:],M[10:],R[10:,:])\n",
    "theta2 = fit2line(X[10:],M[10:])\n",
    "a.plot(X,R,'r.',ms=1)\n",
    "a.plot(X,M,'r')\n",
    "#[0].plot(X,M-2*np.sqrt(V),'r--')\n",
    "#a[0].plot(X,M+2*np.sqrt(V),'r--')\n",
    "  \n",
    "#a.plot(X,model(X,theta2),'b')\n",
    "a.plot(X,model(X,theta),'g')\n",
    "iv = stats.t.interval(0.95,df = theta[5],scale=theta[4],loc=0.)\n",
    "a.plot(X,model(X,theta)+iv[0],'g--')\n",
    "a.plot(X,model(X,theta)-iv[0],'g--')\n",
    "a.plot(X,model(X,theta),'g')\n",
    "print(theta)"
   ]
  },
  {
   "cell_type": "code",
   "execution_count": null,
   "metadata": {},
   "outputs": [],
   "source": [
    "plt.figure()\n",
    "plt.plot(np.sort(R[25,:]),np.array(range(R.shape[1]))/R.shape[1],'b')\n",
    "plt.plot(np.sort(R[26,:]),np.array(range(R.shape[1]))/R.shape[1],'r')\n",
    "plt.plot(np.linspace(-8,0,100),stats.t(*stats.t.fit(R[26,:])).cdf(np.linspace(-8,0,100)),'r')\n",
    "plt.semilogy(np.linspace(-8,0,100),stats.t(*stats.t.fit(R[25,:])).cdf(np.linspace(-8,0,100)),'b')"
   ]
  },
  {
   "cell_type": "code",
   "execution_count": null,
   "metadata": {},
   "outputs": [],
   "source": [
    "stats.t.logpdf(np.linspace(-1,1,10),df=3,loc=0.,scale=1.)"
   ]
  },
  {
   "cell_type": "code",
   "execution_count": null,
   "metadata": {},
   "outputs": [],
   "source": []
  },
  {
   "cell_type": "code",
   "execution_count": null,
   "metadata": {},
   "outputs": [],
   "source": [
    "norm.interval(0.95,scale=1.)"
   ]
  },
  {
   "cell_type": "code",
   "execution_count": null,
   "metadata": {
    "collapsed": true
   },
   "outputs": [],
   "source": [
    "import pickle\n",
    "g = pickle.load(open('/home/mark/Desktop/data.p','rb'))"
   ]
  },
  {
   "cell_type": "code",
   "execution_count": null,
   "metadata": {},
   "outputs": [],
   "source": []
  },
  {
   "cell_type": "code",
   "execution_count": 1,
   "metadata": {},
   "outputs": [
    {
     "name": "stderr",
     "output_type": "stream",
     "text": [
      "Widget Javascript not detected.  It may not be installed or enabled properly.\n"
     ]
    },
    {
     "data": {
      "application/vnd.jupyter.widget-view+json": {
       "model_id": "e64160eed432466287e884d10422b6c6"
      }
     },
     "metadata": {},
     "output_type": "display_data"
    },
    {
     "name": "stdout",
     "output_type": "stream",
     "text": [
      "\n"
     ]
    }
   ],
   "source": [
    "import tqdm\n",
    "import time\n",
    "for i in tqdm.tqdm_notebook(range(1000)):\n",
    "    j=i\n",
    "    time.sleep(0.005)"
   ]
  },
  {
   "cell_type": "code",
   "execution_count": null,
   "metadata": {},
   "outputs": [],
   "source": [
    "import widgetsnbextension\n",
    "widgetsnbextension.__version__"
   ]
  },
  {
   "cell_type": "raw",
   "metadata": {},
   "source": [
    "jupyter nbextension enable --py --sys-prefix widgetsnbextension"
   ]
  },
  {
   "cell_type": "code",
   "execution_count": null,
   "metadata": {
    "collapsed": true
   },
   "outputs": [],
   "source": []
  }
 ],
 "metadata": {
  "kernelspec": {
   "display_name": "gpf-tf1-3.6.1",
   "language": "python",
   "name": "gpf-tf1-3.6.1"
  },
  "language_info": {
   "codemirror_mode": {
    "name": "ipython",
    "version": 3
   },
   "file_extension": ".py",
   "mimetype": "text/x-python",
   "name": "python",
   "nbconvert_exporter": "python",
   "pygments_lexer": "ipython3",
   "version": "3.6.1"
  }
 },
 "nbformat": 4,
 "nbformat_minor": 2
}
